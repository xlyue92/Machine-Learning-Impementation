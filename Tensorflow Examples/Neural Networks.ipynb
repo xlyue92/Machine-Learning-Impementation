{
 "cells": [
  {
   "cell_type": "markdown",
   "metadata": {},
   "source": [
    "### Tensorflow Application\n",
    "Neural networks (single layer)"
   ]
  },
  {
   "cell_type": "code",
   "execution_count": 10,
   "metadata": {},
   "outputs": [],
   "source": [
    "from __future__ import absolute_import, division, print_function, unicode_literals\n",
    "%matplotlib inline\n",
    "import numpy as np\n",
    "import tensorflow as tf\n",
    "import matplotlib.pyplot as plt"
   ]
  },
  {
   "cell_type": "code",
   "execution_count": 2,
   "metadata": {},
   "outputs": [],
   "source": [
    "import logging\n",
    "logger = tf.get_logger()\n",
    "logger.setLevel(logging.ERROR)"
   ]
  },
  {
   "cell_type": "markdown",
   "metadata": {},
   "source": [
    "The problem we will solve is to convert from Celsius to Fahrenheit, where the approximate formula is:\n",
    "$$ f = c \\times 1.8 + 32 $$\n",
    "\n",
    "It is a linear equation, and if we give several sample Celsius values (0, 7, 15, 22, 30, 37, 50, 56), we will have their corresponding Fahrenheit values:"
   ]
  },
  {
   "cell_type": "code",
   "execution_count": 5,
   "metadata": {},
   "outputs": [
    {
     "data": {
      "text/plain": [
       "array([ 14. ,  32. ,  44.6,  59. ,  71.6,  86. ,  98.6, 113. , 122. ,\n",
       "       132.8])"
      ]
     },
     "execution_count": 5,
     "metadata": {},
     "output_type": "execute_result"
    }
   ],
   "source": [
    "c = np.array([-10, 0, 7, 15, 22, 30, 37, 45, 50, 56])\n",
    "def trans(c):\n",
    "    return 1.8 * c + 32\n",
    "\n",
    "f = trans(c)\n",
    "f"
   ]
  },
  {
   "cell_type": "markdown",
   "metadata": {},
   "source": [
    "Therefore,"
   ]
  },
  {
   "cell_type": "code",
   "execution_count": 6,
   "metadata": {},
   "outputs": [
    {
     "name": "stdout",
     "output_type": "stream",
     "text": [
      "-10.0 degrees Celsius = 14.0 degrees Fahrenheit\n",
      "0.0 degrees Celsius = 32.0 degrees Fahrenheit\n",
      "7.0 degrees Celsius = 44.6 degrees Fahrenheit\n",
      "15.0 degrees Celsius = 59.0 degrees Fahrenheit\n",
      "22.0 degrees Celsius = 71.6 degrees Fahrenheit\n",
      "30.0 degrees Celsius = 86.0 degrees Fahrenheit\n",
      "37.0 degrees Celsius = 98.6 degrees Fahrenheit\n",
      "45.0 degrees Celsius = 113.0 degrees Fahrenheit\n",
      "50.0 degrees Celsius = 122.0 degrees Fahrenheit\n",
      "56.0 degrees Celsius = 132.8 degrees Fahrenheit\n"
     ]
    }
   ],
   "source": [
    "cel = np.array([-10, 0, 7, 15, 22, 30, 37, 45, 50, 56], dtype = float)\n",
    "fah = np.array([14. ,  32. ,  44.6,  59. ,  71.6,  86. ,  98.6, 113. , 122. , 132.8], dtype = float)\n",
    "\n",
    "for i, ch in enumerate(cel):\n",
    "    print('{} degrees Celsius = {} degrees Fahrenheit'.format(ch, fah[i]))"
   ]
  },
  {
   "cell_type": "markdown",
   "metadata": {},
   "source": [
    "#### Model\n",
    "Bulid a layer"
   ]
  },
  {
   "cell_type": "code",
   "execution_count": 7,
   "metadata": {},
   "outputs": [],
   "source": [
    "L = tf.keras.layers.Dense(units = 1, input_shape = [1])\n",
    "md = tf.keras.Sequential([L])"
   ]
  },
  {
   "cell_type": "markdown",
   "metadata": {},
   "source": [
    "Compile"
   ]
  },
  {
   "cell_type": "code",
   "execution_count": 8,
   "metadata": {},
   "outputs": [],
   "source": [
    "md.compile(loss = 'mean_squared_error', optimizer = tf.keras.optimizers.Adam(0.1))"
   ]
  },
  {
   "cell_type": "code",
   "execution_count": 11,
   "metadata": {},
   "outputs": [],
   "source": [
    "history = md.fit(cel, fah, epochs = 500, verbose = False)"
   ]
  },
  {
   "cell_type": "code",
   "execution_count": 13,
   "metadata": {},
   "outputs": [
    {
     "data": {
      "image/png": "[encoded data removed]",
      "text/plain": [
       "<Figure size 432x288 with 1 Axes>"
      ]
     },
     "metadata": {
      "needs_background": "light"
     },
     "output_type": "display_data"
    }
   ],
   "source": [
    "plt.xlabel('Epochs Number')\n",
    "plt.ylabel('Loss')\n",
    "plt.plot(history.history['loss'])\n",
    "plt.show()"
   ]
  },
  {
   "cell_type": "code",
   "execution_count": 14,
   "metadata": {},
   "outputs": [
    {
     "name": "stdout",
     "output_type": "stream",
     "text": [
      "[[214.13525]]\n",
      "\n",
      "212.0\n"
     ]
    }
   ],
   "source": [
    "print(md.predict([100.0]))\n",
    "print()\n",
    "print(100 * 1.8 + 32)"
   ]
  },
  {
   "cell_type": "code",
   "execution_count": 15,
   "metadata": {},
   "outputs": [
    {
     "name": "stdout",
     "output_type": "stream",
     "text": [
      "Layer variables: [array([[1.8370513]], dtype=float32), array([30.430138], dtype=float32)]\n"
     ]
    }
   ],
   "source": [
    "print('Layer variables: {}'.format(L.get_weights()))"
   ]
  },
  {
   "cell_type": "markdown",
   "metadata": {},
   "source": [
    "See what happens if more layers added"
   ]
  },
  {
   "cell_type": "code",
   "execution_count": 16,
   "metadata": {},
   "outputs": [],
   "source": [
    "l0 = tf.keras.layers.Dense(units=4, input_shape=[1])  \n",
    "l1 = tf.keras.layers.Dense(units=4)\n",
    "l2 = tf.keras.layers.Dense(units=1)"
   ]
  },
  {
   "cell_type": "code",
   "execution_count": 17,
   "metadata": {},
   "outputs": [],
   "source": [
    "model = tf.keras.Sequential([l0, l1, l2])\n",
    "model.compile(loss = 'mean_squared_error', optimizer = tf.keras.optimizers.Adam(0.1))"
   ]
  },
  {
   "cell_type": "code",
   "execution_count": 18,
   "metadata": {},
   "outputs": [
    {
     "name": "stdout",
     "output_type": "stream",
     "text": [
      "Finished training the model\n"
     ]
    }
   ],
   "source": [
    "model.fit(cel, fah, epochs=500, verbose=False)\n",
    "print(\"Finished training the model\")"
   ]
  },
  {
   "cell_type": "code",
   "execution_count": 20,
   "metadata": {},
   "outputs": [
    {
     "name": "stdout",
     "output_type": "stream",
     "text": [
      "[[212.]]\n",
      "\n",
      "Model predicts that 100 degrees Celsius is: [[212.]] degrees Fahrenheit\n",
      "\n",
      "These are the l0 variables: [array([[ 0.0678059 ,  0.80825037, -0.03938409, -0.40411124]],\n",
      "      dtype=float32), array([-2.393457 ,  4.1098847,  3.0218163, -3.8742316], dtype=float32)]\n",
      "\n",
      "These are the l1 variables: [array([[ 0.23563014, -0.2840252 , -0.6102679 ,  0.80308396],\n",
      "       [ 0.98958135,  1.1628568 , -0.10822053, -0.1444563 ],\n",
      "       [-0.0774582 ,  0.74643004,  1.0272686 ,  0.07910588],\n",
      "       [-0.00657866, -0.5519344 , -1.0789133 ,  0.6201299 ]],\n",
      "      dtype=float32), array([-0.73684156,  3.570752  ,  4.337703  , -0.8585809 ], dtype=float32)]\n"
     ]
    }
   ],
   "source": [
    "print(model.predict([100.0]))\n",
    "print()\n",
    "print(\"Model predicts that 100 degrees Celsius is: {} degrees Fahrenheit\".format(model.predict([100.0])))\n",
    "print()\n",
    "print(\"These are the l0 variables: {}\".format(l0.get_weights()))\n",
    "print()\n",
    "print(\"These are the l1 variables: {}\".format(l1.get_weights()))"
   ]
  },
  {
   "cell_type": "markdown",
   "metadata": {},
   "source": [
    "See that the result is accurate according to the formula, but added layers hides the simple form of the conversion equation."
   ]
  }
 ],
 "metadata": {
  "kernelspec": {
   "display_name": "Python 3",
   "language": "python",
   "name": "python3"
  },
  "language_info": {
   "codemirror_mode": {
    "name": "ipython",
    "version": 3
   },
   "file_extension": ".py",
   "mimetype": "text/x-python",
   "name": "python",
   "nbconvert_exporter": "python",
   "pygments_lexer": "ipython3",
   "version": "3.6.8"
  }
 },
 "nbformat": 4,
 "nbformat_minor": 2
}
