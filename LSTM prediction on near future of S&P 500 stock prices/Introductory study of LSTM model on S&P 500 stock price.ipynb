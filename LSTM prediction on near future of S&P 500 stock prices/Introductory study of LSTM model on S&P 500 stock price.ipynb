{
 "cells": [
  {
   "cell_type": "markdown",
   "metadata": {},
   "source": [
    "Rum Yue"
   ]
  },
  {
   "cell_type": "code",
   "execution_count": null,
   "metadata": {},
   "outputs": [],
   "source": [
    "%%HTML\n",
    "<button onclick=\"$('.input, .prompt, .output_stderr, .output_error, .output_result').toggle();\">Toggle Code</button>"
   ]
  },
  {
   "cell_type": "code",
   "execution_count": 1,
   "metadata": {},
   "outputs": [],
   "source": [
    "%matplotlib inline\n",
    "import matplotlib.pyplot as plt\n",
    "import numpy as np\n",
    "import pandas as pd\n",
    "from sklearn.preprocessing import MinMaxScaler"
   ]
  },
  {
   "cell_type": "code",
   "execution_count": 2,
   "metadata": {},
   "outputs": [
    {
     "name": "stderr",
     "output_type": "stream",
     "text": [
      "Using TensorFlow backend.\n"
     ]
    }
   ],
   "source": [
    "from keras.models import Sequential\n",
    "from keras.layers import LSTM, Dense, Dropout"
   ]
  },
  {
   "cell_type": "code",
   "execution_count": 4,
   "metadata": {},
   "outputs": [],
   "source": [
    "train = pd.read_csv('/Users/xlyue/Documents/kaggle learning/S&P 500 stock data/sandp500/all_stocks_5yr.csv')"
   ]
  },
  {
   "cell_type": "markdown",
   "metadata": {},
   "source": [
    "### Preprocessing"
   ]
  },
  {
   "cell_type": "code",
   "execution_count": 6,
   "metadata": {},
   "outputs": [
    {
     "name": "stdout",
     "output_type": "stream",
     "text": [
      "<class 'pandas.core.frame.DataFrame'>\n",
      "RangeIndex: 619040 entries, 0 to 619039\n",
      "Data columns (total 7 columns):\n",
      "date      619040 non-null object\n",
      "open      619029 non-null float64\n",
      "high      619032 non-null float64\n",
      "low       619032 non-null float64\n",
      "close     619040 non-null float64\n",
      "volume    619040 non-null int64\n",
      "Name      619040 non-null object\n",
      "dtypes: float64(4), int64(1), object(2)\n",
      "memory usage: 33.1+ MB\n"
     ]
    }
   ],
   "source": [
    "train.info()"
   ]
  },
  {
   "cell_type": "code",
   "execution_count": 7,
   "metadata": {},
   "outputs": [
    {
     "data": {
      "text/plain": [
       "date       0\n",
       "open      11\n",
       "high       8\n",
       "low        8\n",
       "close      0\n",
       "volume     0\n",
       "Name       0\n",
       "dtype: int64"
      ]
     },
     "execution_count": 7,
     "metadata": {},
     "output_type": "execute_result"
    }
   ],
   "source": [
    "train.isnull().sum()"
   ]
  },
  {
   "cell_type": "code",
   "execution_count": 8,
   "metadata": {},
   "outputs": [],
   "source": [
    "train = train.drop(train.loc[train['open'].isnull()].index)\n",
    "train = train.drop(train.loc[train['high'].isnull()].index)\n",
    "train = train.drop(train.loc[train['low'].isnull()].index)"
   ]
  },
  {
   "cell_type": "markdown",
   "metadata": {},
   "source": [
    "#### Target trained stock: Amazon"
   ]
  },
  {
   "cell_type": "code",
   "execution_count": 9,
   "metadata": {},
   "outputs": [],
   "source": [
    "amzn = train.loc[train['Name'] == 'AMZN']\n",
    "amzn = amzn.reset_index(drop = True)"
   ]
  },
  {
   "cell_type": "code",
   "execution_count": 12,
   "metadata": {},
   "outputs": [
    {
     "data": {
      "text/html": [
       "<div>\n",
       "<style scoped>\n",
       "    .dataframe tbody tr th:only-of-type {\n",
       "        vertical-align: middle;\n",
       "    }\n",
       "\n",
       "    .dataframe tbody tr th {\n",
       "        vertical-align: top;\n",
       "    }\n",
       "\n",
       "    .dataframe thead th {\n",
       "        text-align: right;\n",
       "    }\n",
       "</style>\n",
       "<table border=\"1\" class=\"dataframe\">\n",
       "  <thead>\n",
       "    <tr style=\"text-align: right;\">\n",
       "      <th></th>\n",
       "      <th>date</th>\n",
       "      <th>open</th>\n",
       "      <th>high</th>\n",
       "      <th>low</th>\n",
       "      <th>close</th>\n",
       "      <th>volume</th>\n",
       "      <th>Name</th>\n",
       "    </tr>\n",
       "  </thead>\n",
       "  <tbody>\n",
       "    <tr>\n",
       "      <th>0</th>\n",
       "      <td>2013-02-08</td>\n",
       "      <td>261.40</td>\n",
       "      <td>265.25</td>\n",
       "      <td>260.555</td>\n",
       "      <td>261.95</td>\n",
       "      <td>3879078</td>\n",
       "      <td>AMZN</td>\n",
       "    </tr>\n",
       "    <tr>\n",
       "      <th>1</th>\n",
       "      <td>2013-02-11</td>\n",
       "      <td>263.20</td>\n",
       "      <td>263.25</td>\n",
       "      <td>256.600</td>\n",
       "      <td>257.21</td>\n",
       "      <td>3403403</td>\n",
       "      <td>AMZN</td>\n",
       "    </tr>\n",
       "    <tr>\n",
       "      <th>2</th>\n",
       "      <td>2013-02-12</td>\n",
       "      <td>259.19</td>\n",
       "      <td>260.16</td>\n",
       "      <td>257.000</td>\n",
       "      <td>258.70</td>\n",
       "      <td>2938660</td>\n",
       "      <td>AMZN</td>\n",
       "    </tr>\n",
       "    <tr>\n",
       "      <th>3</th>\n",
       "      <td>2013-02-13</td>\n",
       "      <td>261.53</td>\n",
       "      <td>269.96</td>\n",
       "      <td>260.300</td>\n",
       "      <td>269.47</td>\n",
       "      <td>5292996</td>\n",
       "      <td>AMZN</td>\n",
       "    </tr>\n",
       "    <tr>\n",
       "      <th>4</th>\n",
       "      <td>2013-02-14</td>\n",
       "      <td>267.37</td>\n",
       "      <td>270.65</td>\n",
       "      <td>265.400</td>\n",
       "      <td>269.24</td>\n",
       "      <td>3462780</td>\n",
       "      <td>AMZN</td>\n",
       "    </tr>\n",
       "  </tbody>\n",
       "</table>\n",
       "</div>"
      ],
      "text/plain": [
       "         date    open    high      low   close   volume  Name\n",
       "0  2013-02-08  261.40  265.25  260.555  261.95  3879078  AMZN\n",
       "1  2013-02-11  263.20  263.25  256.600  257.21  3403403  AMZN\n",
       "2  2013-02-12  259.19  260.16  257.000  258.70  2938660  AMZN\n",
       "3  2013-02-13  261.53  269.96  260.300  269.47  5292996  AMZN\n",
       "4  2013-02-14  267.37  270.65  265.400  269.24  3462780  AMZN"
      ]
     },
     "execution_count": 12,
     "metadata": {},
     "output_type": "execute_result"
    }
   ],
   "source": [
    "amzn.head()"
   ]
  },
  {
   "cell_type": "markdown",
   "metadata": {},
   "source": [
    "#### Subtract columns that we need\n",
    "there are three ways to make it"
   ]
  },
  {
   "cell_type": "code",
   "execution_count": 13,
   "metadata": {},
   "outputs": [],
   "source": [
    "# no.1\n",
    "amzn_train = amzn.copy()\n",
    "amzn_train.drop(['date', 'open', 'high', 'low', 'volume', 'Name'], axis = 1, inplace = True)"
   ]
  },
  {
   "cell_type": "code",
   "execution_count": 14,
   "metadata": {},
   "outputs": [
    {
     "data": {
      "text/plain": [
       "(1259, 1)"
      ]
     },
     "execution_count": 14,
     "metadata": {},
     "output_type": "execute_result"
    }
   ],
   "source": [
    "amzn_train.shape"
   ]
  },
  {
   "cell_type": "code",
   "execution_count": 60,
   "metadata": {},
   "outputs": [],
   "source": [
    "# no.2\n",
    "amzn_raw = amzn.iloc[:, 4:5]"
   ]
  },
  {
   "cell_type": "code",
   "execution_count": 61,
   "metadata": {},
   "outputs": [
    {
     "data": {
      "text/plain": [
       "(1259, 1)"
      ]
     },
     "execution_count": 61,
     "metadata": {},
     "output_type": "execute_result"
    }
   ],
   "source": [
    "amzn_raw.shape"
   ]
  },
  {
   "cell_type": "code",
   "execution_count": 67,
   "metadata": {},
   "outputs": [
    {
     "data": {
      "text/plain": [
       "(1259, 1)"
      ]
     },
     "execution_count": 67,
     "metadata": {},
     "output_type": "execute_result"
    }
   ],
   "source": [
    "# no.3\n",
    "amzn_train = amzn.loc[:, amzn.columns == 'close']\n",
    "amzn_train.shape"
   ]
  },
  {
   "cell_type": "markdown",
   "metadata": {},
   "source": [
    "#### MinMaxScaler\n",
    "feature scaling method to sort data without additional information about the data's distribution"
   ]
  },
  {
   "cell_type": "code",
   "execution_count": 15,
   "metadata": {},
   "outputs": [],
   "source": [
    "# this step is important since otherwise the scaler does not recognize your training data \"X\"\n",
    "sc = MinMaxScaler()\n",
    "trainset = sc.fit_transform(amzn_train.values)"
   ]
  },
  {
   "cell_type": "code",
   "execution_count": 16,
   "metadata": {},
   "outputs": [
    {
     "data": {
      "text/plain": [
       "(1259, 1)"
      ]
     },
     "execution_count": 16,
     "metadata": {},
     "output_type": "execute_result"
    }
   ],
   "source": [
    "trainset.shape"
   ]
  },
  {
   "cell_type": "markdown",
   "metadata": {},
   "source": [
    "### Create datasets to train\n",
    "we give predictions on every two months"
   ]
  },
  {
   "cell_type": "code",
   "execution_count": 17,
   "metadata": {},
   "outputs": [],
   "source": [
    "X_train = []\n",
    "y_train = []\n",
    "period = 60\n",
    "for i in range(period, len (trainset)):\n",
    "    # use append function since append treat the target as a whole rather than extend solely to get a list of list elements\n",
    "    X_train.append(trainset[i - period: i])\n",
    "    y_train.append(trainset[i])\n",
    "X_train = np.asarray(X_train)\n",
    "y_train = np.asarray(y_train)"
   ]
  },
  {
   "cell_type": "code",
   "execution_count": 31,
   "metadata": {},
   "outputs": [
    {
     "data": {
      "text/plain": [
       "(1199, 60, 1)"
      ]
     },
     "execution_count": 31,
     "metadata": {},
     "output_type": "execute_result"
    }
   ],
   "source": [
    "X_train.shape"
   ]
  },
  {
   "cell_type": "code",
   "execution_count": 32,
   "metadata": {},
   "outputs": [
    {
     "data": {
      "text/plain": [
       "(1199, 1)"
      ]
     },
     "execution_count": 32,
     "metadata": {},
     "output_type": "execute_result"
    }
   ],
   "source": [
    "y_train.shape"
   ]
  },
  {
   "cell_type": "markdown",
   "metadata": {},
   "source": [
    "### Train the model"
   ]
  },
  {
   "cell_type": "code",
   "execution_count": 35,
   "metadata": {},
   "outputs": [],
   "source": [
    "md = Sequential()"
   ]
  },
  {
   "cell_type": "code",
   "execution_count": 36,
   "metadata": {},
   "outputs": [
    {
     "name": "stdout",
     "output_type": "stream",
     "text": [
      "WARNING:tensorflow:From /anaconda3/lib/python3.6/site-packages/tensorflow/python/framework/op_def_library.py:263: colocate_with (from tensorflow.python.framework.ops) is deprecated and will be removed in a future version.\n",
      "Instructions for updating:\n",
      "Colocations handled automatically by placer.\n",
      "WARNING:tensorflow:From /anaconda3/lib/python3.6/site-packages/keras/backend/tensorflow_backend.py:3445: calling dropout (from tensorflow.python.ops.nn_ops) with keep_prob is deprecated and will be removed in a future version.\n",
      "Instructions for updating:\n",
      "Please use `rate` instead of `keep_prob`. Rate should be set to `rate = 1 - keep_prob`.\n"
     ]
    }
   ],
   "source": [
    "md.add(LSTM(units = 92, return_sequences = True, input_shape = (X_train.shape[1], 1)))\n",
    "md.add(Dropout(0.2))\n",
    "\n",
    "md.add(LSTM(units = 92, return_sequences = True))\n",
    "md.add(Dropout(0.2))\n",
    "\n",
    "md.add(LSTM(units = 92, return_sequences = True))\n",
    "md.add(Dropout(0.2))\n",
    "\n",
    "md.add(LSTM(units = 92, return_sequences = False))\n",
    "md.add(Dropout(0.2))\n",
    "\n",
    "md.add(Dense(units = 1))\n",
    "md.compile(optimizer = 'adam', loss = 'mean_squared_error')"
   ]
  },
  {
   "cell_type": "code",
   "execution_count": 37,
   "metadata": {
    "scrolled": true
   },
   "outputs": [
    {
     "name": "stdout",
     "output_type": "stream",
     "text": [
      "WARNING:tensorflow:From /anaconda3/lib/python3.6/site-packages/tensorflow/python/ops/math_ops.py:3066: to_int32 (from tensorflow.python.ops.math_ops) is deprecated and will be removed in a future version.\n",
      "Instructions for updating:\n",
      "Use tf.cast instead.\n",
      "Epoch 1/50\n",
      "1199/1199 [==============================] - 7s 6ms/step - loss: 0.0136\n",
      "Epoch 2/50\n",
      "1199/1199 [==============================] - 5s 4ms/step - loss: 0.0020\n",
      "Epoch 3/50\n",
      "1199/1199 [==============================] - 6s 5ms/step - loss: 0.0018\n",
      "Epoch 4/50\n",
      "1199/1199 [==============================] - 6s 5ms/step - loss: 0.0013\n",
      "Epoch 5/50\n",
      "1199/1199 [==============================] - 6s 5ms/step - loss: 0.0014\n",
      "Epoch 6/50\n",
      "1199/1199 [==============================] - 6s 5ms/step - loss: 0.0014\n",
      "Epoch 7/50\n",
      "1199/1199 [==============================] - 6s 5ms/step - loss: 0.0015\n",
      "Epoch 8/50\n",
      "1199/1199 [==============================] - 6s 5ms/step - loss: 0.0012\n",
      "Epoch 9/50\n",
      "1199/1199 [==============================] - 6s 5ms/step - loss: 0.0013\n",
      "Epoch 10/50\n",
      "1199/1199 [==============================] - 6s 5ms/step - loss: 0.0013\n",
      "Epoch 11/50\n",
      "1199/1199 [==============================] - 6s 5ms/step - loss: 0.0012\n",
      "Epoch 12/50\n",
      "1199/1199 [==============================] - 6s 5ms/step - loss: 0.0016\n",
      "Epoch 13/50\n",
      "1199/1199 [==============================] - 6s 5ms/step - loss: 0.0011\n",
      "Epoch 14/50\n",
      "1199/1199 [==============================] - 6s 5ms/step - loss: 0.0012\n",
      "Epoch 15/50\n",
      "1199/1199 [==============================] - 6s 5ms/step - loss: 0.0016\n",
      "Epoch 16/50\n",
      "1199/1199 [==============================] - 6s 5ms/step - loss: 0.0013\n",
      "Epoch 17/50\n",
      "1199/1199 [==============================] - 6s 5ms/step - loss: 0.0014\n",
      "Epoch 18/50\n",
      "1199/1199 [==============================] - 6s 5ms/step - loss: 0.0014\n",
      "Epoch 19/50\n",
      "1199/1199 [==============================] - 6s 5ms/step - loss: 9.8519e-04\n",
      "Epoch 20/50\n",
      "1199/1199 [==============================] - 6s 5ms/step - loss: 0.0012\n",
      "Epoch 21/50\n",
      "1199/1199 [==============================] - 6s 5ms/step - loss: 0.0011\n",
      "Epoch 22/50\n",
      "1199/1199 [==============================] - 6s 5ms/step - loss: 9.0490e-04\n",
      "Epoch 23/50\n",
      "1199/1199 [==============================] - 6s 5ms/step - loss: 9.8377e-04\n",
      "Epoch 24/50\n",
      "1199/1199 [==============================] - 6s 5ms/step - loss: 0.0011\n",
      "Epoch 25/50\n",
      "1199/1199 [==============================] - 6s 5ms/step - loss: 8.9885e-04\n",
      "Epoch 26/50\n",
      "1199/1199 [==============================] - 6s 5ms/step - loss: 9.4559e-04\n",
      "Epoch 27/50\n",
      "1199/1199 [==============================] - 6s 5ms/step - loss: 9.3025e-04\n",
      "Epoch 28/50\n",
      "1199/1199 [==============================] - 6s 5ms/step - loss: 8.3998e-04\n",
      "Epoch 29/50\n",
      "1199/1199 [==============================] - 6s 5ms/step - loss: 7.9223e-04\n",
      "Epoch 30/50\n",
      "1199/1199 [==============================] - 6s 5ms/step - loss: 8.0879e-04\n",
      "Epoch 31/50\n",
      "1199/1199 [==============================] - 6s 5ms/step - loss: 7.8840e-04\n",
      "Epoch 32/50\n",
      "1199/1199 [==============================] - 6s 5ms/step - loss: 7.1773e-04\n",
      "Epoch 33/50\n",
      "1199/1199 [==============================] - 6s 5ms/step - loss: 9.5169e-04\n",
      "Epoch 34/50\n",
      "1199/1199 [==============================] - 6s 5ms/step - loss: 9.6169e-04\n",
      "Epoch 35/50\n",
      "1199/1199 [==============================] - 6s 5ms/step - loss: 9.7013e-04\n",
      "Epoch 36/50\n",
      "1199/1199 [==============================] - 6s 5ms/step - loss: 0.0011\n",
      "Epoch 37/50\n",
      "1199/1199 [==============================] - 6s 5ms/step - loss: 9.5431e-04\n",
      "Epoch 38/50\n",
      "1199/1199 [==============================] - 6s 5ms/step - loss: 7.6017e-04\n",
      "Epoch 39/50\n",
      "1199/1199 [==============================] - 6s 5ms/step - loss: 7.3027e-04\n",
      "Epoch 40/50\n",
      "1199/1199 [==============================] - 6s 5ms/step - loss: 8.1706e-04\n",
      "Epoch 41/50\n",
      "1199/1199 [==============================] - 6s 5ms/step - loss: 7.5723e-04\n",
      "Epoch 42/50\n",
      "1199/1199 [==============================] - 6s 5ms/step - loss: 7.5088e-04\n",
      "Epoch 43/50\n",
      "1199/1199 [==============================] - 6s 5ms/step - loss: 8.8838e-04\n",
      "Epoch 44/50\n",
      "1199/1199 [==============================] - 6s 5ms/step - loss: 8.1952e-04\n",
      "Epoch 45/50\n",
      "1199/1199 [==============================] - 6s 5ms/step - loss: 0.0010\n",
      "Epoch 46/50\n",
      "1199/1199 [==============================] - 6s 5ms/step - loss: 8.1807e-04\n",
      "Epoch 47/50\n",
      "1199/1199 [==============================] - 6s 5ms/step - loss: 8.7882e-04\n",
      "Epoch 48/50\n",
      "1199/1199 [==============================] - 6s 5ms/step - loss: 7.2160e-04\n",
      "Epoch 49/50\n",
      "1199/1199 [==============================] - 6s 5ms/step - loss: 6.9638e-04\n",
      "Epoch 50/50\n",
      "1199/1199 [==============================] - 6s 5ms/step - loss: 7.8869e-04\n"
     ]
    },
    {
     "data": {
      "text/plain": [
       "<keras.callbacks.History at 0x1493dcef0>"
      ]
     },
     "execution_count": 37,
     "metadata": {},
     "output_type": "execute_result"
    }
   ],
   "source": [
    "md.fit(X_train, y_train, epochs = 50, batch_size = 32)"
   ]
  },
  {
   "cell_type": "markdown",
   "metadata": {},
   "source": [
    "### Verify the model performance"
   ]
  },
  {
   "cell_type": "code",
   "execution_count": 41,
   "metadata": {},
   "outputs": [
    {
     "data": {
      "text/html": [
       "<div>\n",
       "<style scoped>\n",
       "    .dataframe tbody tr th:only-of-type {\n",
       "        vertical-align: middle;\n",
       "    }\n",
       "\n",
       "    .dataframe tbody tr th {\n",
       "        vertical-align: top;\n",
       "    }\n",
       "\n",
       "    .dataframe thead th {\n",
       "        text-align: right;\n",
       "    }\n",
       "</style>\n",
       "<table border=\"1\" class=\"dataframe\">\n",
       "  <thead>\n",
       "    <tr style=\"text-align: right;\">\n",
       "      <th></th>\n",
       "      <th>date</th>\n",
       "      <th>open</th>\n",
       "      <th>high</th>\n",
       "      <th>low</th>\n",
       "      <th>close</th>\n",
       "      <th>volume</th>\n",
       "      <th>Name</th>\n",
       "    </tr>\n",
       "  </thead>\n",
       "  <tbody>\n",
       "    <tr>\n",
       "      <th>257578</th>\n",
       "      <td>2013-02-08</td>\n",
       "      <td>150.78</td>\n",
       "      <td>151.970</td>\n",
       "      <td>150.3500</td>\n",
       "      <td>151.60</td>\n",
       "      <td>3612229</td>\n",
       "      <td>GS</td>\n",
       "    </tr>\n",
       "    <tr>\n",
       "      <th>257579</th>\n",
       "      <td>2013-02-11</td>\n",
       "      <td>151.42</td>\n",
       "      <td>152.870</td>\n",
       "      <td>150.9601</td>\n",
       "      <td>152.24</td>\n",
       "      <td>3751274</td>\n",
       "      <td>GS</td>\n",
       "    </tr>\n",
       "    <tr>\n",
       "      <th>257580</th>\n",
       "      <td>2013-02-12</td>\n",
       "      <td>152.48</td>\n",
       "      <td>154.320</td>\n",
       "      <td>151.7900</td>\n",
       "      <td>154.11</td>\n",
       "      <td>4307556</td>\n",
       "      <td>GS</td>\n",
       "    </tr>\n",
       "    <tr>\n",
       "      <th>257581</th>\n",
       "      <td>2013-02-13</td>\n",
       "      <td>154.11</td>\n",
       "      <td>154.850</td>\n",
       "      <td>153.2800</td>\n",
       "      <td>154.52</td>\n",
       "      <td>4368576</td>\n",
       "      <td>GS</td>\n",
       "    </tr>\n",
       "    <tr>\n",
       "      <th>257582</th>\n",
       "      <td>2013-02-14</td>\n",
       "      <td>153.84</td>\n",
       "      <td>156.719</td>\n",
       "      <td>153.6200</td>\n",
       "      <td>155.93</td>\n",
       "      <td>5035367</td>\n",
       "      <td>GS</td>\n",
       "    </tr>\n",
       "  </tbody>\n",
       "</table>\n",
       "</div>"
      ],
      "text/plain": [
       "              date    open     high       low   close   volume Name\n",
       "257578  2013-02-08  150.78  151.970  150.3500  151.60  3612229   GS\n",
       "257579  2013-02-11  151.42  152.870  150.9601  152.24  3751274   GS\n",
       "257580  2013-02-12  152.48  154.320  151.7900  154.11  4307556   GS\n",
       "257581  2013-02-13  154.11  154.850  153.2800  154.52  4368576   GS\n",
       "257582  2013-02-14  153.84  156.719  153.6200  155.93  5035367   GS"
      ]
     },
     "execution_count": 41,
     "metadata": {},
     "output_type": "execute_result"
    }
   ],
   "source": [
    "gs = train.loc[train['Name'] == 'GS']\n",
    "gs.head()"
   ]
  },
  {
   "cell_type": "code",
   "execution_count": 42,
   "metadata": {},
   "outputs": [
    {
     "data": {
      "text/html": [
       "<div>\n",
       "<style scoped>\n",
       "    .dataframe tbody tr th:only-of-type {\n",
       "        vertical-align: middle;\n",
       "    }\n",
       "\n",
       "    .dataframe tbody tr th {\n",
       "        vertical-align: top;\n",
       "    }\n",
       "\n",
       "    .dataframe thead th {\n",
       "        text-align: right;\n",
       "    }\n",
       "</style>\n",
       "<table border=\"1\" class=\"dataframe\">\n",
       "  <thead>\n",
       "    <tr style=\"text-align: right;\">\n",
       "      <th></th>\n",
       "      <th>close</th>\n",
       "    </tr>\n",
       "  </thead>\n",
       "  <tbody>\n",
       "    <tr>\n",
       "      <th>257578</th>\n",
       "      <td>151.60</td>\n",
       "    </tr>\n",
       "    <tr>\n",
       "      <th>257579</th>\n",
       "      <td>152.24</td>\n",
       "    </tr>\n",
       "    <tr>\n",
       "      <th>257580</th>\n",
       "      <td>154.11</td>\n",
       "    </tr>\n",
       "    <tr>\n",
       "      <th>257581</th>\n",
       "      <td>154.52</td>\n",
       "    </tr>\n",
       "    <tr>\n",
       "      <th>257582</th>\n",
       "      <td>155.93</td>\n",
       "    </tr>\n",
       "  </tbody>\n",
       "</table>\n",
       "</div>"
      ],
      "text/plain": [
       "         close\n",
       "257578  151.60\n",
       "257579  152.24\n",
       "257580  154.11\n",
       "257581  154.52\n",
       "257582  155.93"
      ]
     },
     "execution_count": 42,
     "metadata": {},
     "output_type": "execute_result"
    }
   ],
   "source": [
    "# here we use method no.3\n",
    "gs = gs.loc[:, gs.columns == 'close']\n",
    "gs.head()"
   ]
  },
  {
   "cell_type": "code",
   "execution_count": 52,
   "metadata": {},
   "outputs": [],
   "source": [
    "gs_test = gs.iloc[period:].values"
   ]
  },
  {
   "cell_type": "code",
   "execution_count": 53,
   "metadata": {},
   "outputs": [],
   "source": [
    "gs_train = gs.values"
   ]
  },
  {
   "cell_type": "code",
   "execution_count": 54,
   "metadata": {},
   "outputs": [],
   "source": [
    "gs_trainset = sc.transform(gs_train)"
   ]
  },
  {
   "cell_type": "code",
   "execution_count": 55,
   "metadata": {},
   "outputs": [],
   "source": [
    "X_test = []\n",
    "y_test = gs_test\n",
    "period = 60\n",
    "for i in range(period, len(trainset)):\n",
    "    # use append function since append treat the target as a whole rather than extend solely to get a list of list elements\n",
    "    X_test.append(gs_trainset[i - period: i])\n",
    "\n",
    "X_test = np.asarray(X_test)"
   ]
  },
  {
   "cell_type": "code",
   "execution_count": 56,
   "metadata": {},
   "outputs": [
    {
     "data": {
      "text/plain": [
       "(1199, 60, 1)"
      ]
     },
     "execution_count": 56,
     "metadata": {},
     "output_type": "execute_result"
    }
   ],
   "source": [
    "X_test.shape"
   ]
  },
  {
   "cell_type": "code",
   "execution_count": 57,
   "metadata": {},
   "outputs": [],
   "source": [
    "y_pred = md.predict(X_test)\n",
    "gs_predict_price = sc.inverse_transform(y_pred)"
   ]
  },
  {
   "cell_type": "markdown",
   "metadata": {},
   "source": [
    "### Visualize the comparison between true & predicted prices"
   ]
  },
  {
   "cell_type": "code",
   "execution_count": 58,
   "metadata": {},
   "outputs": [
    {
     "data": {
      "image/png": "[encoded data removed]",
      "text/plain": [
       "<Figure size 864x576 with 1 Axes>"
      ]
     },
     "metadata": {
      "needs_background": "light"
     },
     "output_type": "display_data"
    }
   ],
   "source": [
    "plt.figure(figsize = (12, 8))\n",
    "plt.plot(y_test, label = 'True Stock Price')\n",
    "plt.plot(gs_predict_price, label = 'Predicted Stock Price')\n",
    "\n",
    "plt.title('Goldman Sachs Stock Price Prediction')\n",
    "plt.xlabel('time')\n",
    "plt.ylabel('stock price')\n",
    "\n",
    "plt.legend()\n",
    "plt.show()"
   ]
  },
  {
   "cell_type": "markdown",
   "metadata": {},
   "source": [
    "### Conclusion\n",
    "The prediction is based on true price values after two months. \n",
    "\n",
    "In the training process, the model predicts the current price using information of every past two months.\n",
    "\n",
    "After training, we seperate X and y trainset to make predictions using every 60 days information on the following 61th day.\n",
    "\n",
    "Through the fitting plot, we can use this LSTM model to predict stock prices in the near future."
   ]
  }
 ],
 "metadata": {
  "kernelspec": {
   "display_name": "Python 3",
   "language": "python",
   "name": "python3"
  },
  "language_info": {
   "codemirror_mode": {
    "name": "ipython",
    "version": 3
   },
   "file_extension": ".py",
   "mimetype": "text/x-python",
   "name": "python",
   "nbconvert_exporter": "python",
   "pygments_lexer": "ipython3",
   "version": "3.6.8"
  }
 },
 "nbformat": 4,
 "nbformat_minor": 2
}
