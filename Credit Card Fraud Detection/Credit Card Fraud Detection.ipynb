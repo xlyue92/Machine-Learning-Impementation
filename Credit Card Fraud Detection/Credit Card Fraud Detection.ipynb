{
 "cells": [
  {
   "cell_type": "markdown",
   "metadata": {},
   "source": [
    "Rum Yue"
   ]
  },
  {
   "cell_type": "markdown",
   "metadata": {},
   "source": [
    "### Credit Card Fraud Detection"
   ]
  },
  {
   "cell_type": "code",
   "execution_count": 1,
   "metadata": {},
   "outputs": [],
   "source": [
    "%matplotlib inline\n",
    "import matplotlib.pyplot as plt\n",
    "import numpy as np\n",
    "import pandas as pd\n",
    "import seaborn as sns"
   ]
  },
  {
   "cell_type": "code",
   "execution_count": 2,
   "metadata": {},
   "outputs": [],
   "source": [
    "import tensorflow as tf"
   ]
  },
  {
   "cell_type": "code",
   "execution_count": 3,
   "metadata": {},
   "outputs": [],
   "source": [
    "raw = pd.read_csv('creditcard.csv')"
   ]
  },
  {
   "cell_type": "code",
   "execution_count": 17,
   "metadata": {},
   "outputs": [
    {
     "data": {
      "text/html": [
       "<div>\n",
       "<style scoped>\n",
       "    .dataframe tbody tr th:only-of-type {\n",
       "        vertical-align: middle;\n",
       "    }\n",
       "\n",
       "    .dataframe tbody tr th {\n",
       "        vertical-align: top;\n",
       "    }\n",
       "\n",
       "    .dataframe thead th {\n",
       "        text-align: right;\n",
       "    }\n",
       "</style>\n",
       "<table border=\"1\" class=\"dataframe\">\n",
       "  <thead>\n",
       "    <tr style=\"text-align: right;\">\n",
       "      <th></th>\n",
       "      <th>Time</th>\n",
       "      <th>V1</th>\n",
       "      <th>V2</th>\n",
       "      <th>V3</th>\n",
       "      <th>V4</th>\n",
       "      <th>V5</th>\n",
       "      <th>V6</th>\n",
       "      <th>V7</th>\n",
       "      <th>V8</th>\n",
       "      <th>V9</th>\n",
       "      <th>...</th>\n",
       "      <th>V21</th>\n",
       "      <th>V22</th>\n",
       "      <th>V23</th>\n",
       "      <th>V24</th>\n",
       "      <th>V25</th>\n",
       "      <th>V26</th>\n",
       "      <th>V27</th>\n",
       "      <th>V28</th>\n",
       "      <th>Amount</th>\n",
       "      <th>Class</th>\n",
       "    </tr>\n",
       "  </thead>\n",
       "  <tbody>\n",
       "    <tr>\n",
       "      <th>0</th>\n",
       "      <td>0.0</td>\n",
       "      <td>-1.359807</td>\n",
       "      <td>-0.072781</td>\n",
       "      <td>2.536347</td>\n",
       "      <td>1.378155</td>\n",
       "      <td>-0.338321</td>\n",
       "      <td>0.462388</td>\n",
       "      <td>0.239599</td>\n",
       "      <td>0.098698</td>\n",
       "      <td>0.363787</td>\n",
       "      <td>...</td>\n",
       "      <td>-0.018307</td>\n",
       "      <td>0.277838</td>\n",
       "      <td>-0.110474</td>\n",
       "      <td>0.066928</td>\n",
       "      <td>0.128539</td>\n",
       "      <td>-0.189115</td>\n",
       "      <td>0.133558</td>\n",
       "      <td>-0.021053</td>\n",
       "      <td>149.62</td>\n",
       "      <td>0</td>\n",
       "    </tr>\n",
       "    <tr>\n",
       "      <th>1</th>\n",
       "      <td>0.0</td>\n",
       "      <td>1.191857</td>\n",
       "      <td>0.266151</td>\n",
       "      <td>0.166480</td>\n",
       "      <td>0.448154</td>\n",
       "      <td>0.060018</td>\n",
       "      <td>-0.082361</td>\n",
       "      <td>-0.078803</td>\n",
       "      <td>0.085102</td>\n",
       "      <td>-0.255425</td>\n",
       "      <td>...</td>\n",
       "      <td>-0.225775</td>\n",
       "      <td>-0.638672</td>\n",
       "      <td>0.101288</td>\n",
       "      <td>-0.339846</td>\n",
       "      <td>0.167170</td>\n",
       "      <td>0.125895</td>\n",
       "      <td>-0.008983</td>\n",
       "      <td>0.014724</td>\n",
       "      <td>2.69</td>\n",
       "      <td>0</td>\n",
       "    </tr>\n",
       "    <tr>\n",
       "      <th>2</th>\n",
       "      <td>1.0</td>\n",
       "      <td>-1.358354</td>\n",
       "      <td>-1.340163</td>\n",
       "      <td>1.773209</td>\n",
       "      <td>0.379780</td>\n",
       "      <td>-0.503198</td>\n",
       "      <td>1.800499</td>\n",
       "      <td>0.791461</td>\n",
       "      <td>0.247676</td>\n",
       "      <td>-1.514654</td>\n",
       "      <td>...</td>\n",
       "      <td>0.247998</td>\n",
       "      <td>0.771679</td>\n",
       "      <td>0.909412</td>\n",
       "      <td>-0.689281</td>\n",
       "      <td>-0.327642</td>\n",
       "      <td>-0.139097</td>\n",
       "      <td>-0.055353</td>\n",
       "      <td>-0.059752</td>\n",
       "      <td>378.66</td>\n",
       "      <td>0</td>\n",
       "    </tr>\n",
       "    <tr>\n",
       "      <th>3</th>\n",
       "      <td>1.0</td>\n",
       "      <td>-0.966272</td>\n",
       "      <td>-0.185226</td>\n",
       "      <td>1.792993</td>\n",
       "      <td>-0.863291</td>\n",
       "      <td>-0.010309</td>\n",
       "      <td>1.247203</td>\n",
       "      <td>0.237609</td>\n",
       "      <td>0.377436</td>\n",
       "      <td>-1.387024</td>\n",
       "      <td>...</td>\n",
       "      <td>-0.108300</td>\n",
       "      <td>0.005274</td>\n",
       "      <td>-0.190321</td>\n",
       "      <td>-1.175575</td>\n",
       "      <td>0.647376</td>\n",
       "      <td>-0.221929</td>\n",
       "      <td>0.062723</td>\n",
       "      <td>0.061458</td>\n",
       "      <td>123.50</td>\n",
       "      <td>0</td>\n",
       "    </tr>\n",
       "    <tr>\n",
       "      <th>4</th>\n",
       "      <td>2.0</td>\n",
       "      <td>-1.158233</td>\n",
       "      <td>0.877737</td>\n",
       "      <td>1.548718</td>\n",
       "      <td>0.403034</td>\n",
       "      <td>-0.407193</td>\n",
       "      <td>0.095921</td>\n",
       "      <td>0.592941</td>\n",
       "      <td>-0.270533</td>\n",
       "      <td>0.817739</td>\n",
       "      <td>...</td>\n",
       "      <td>-0.009431</td>\n",
       "      <td>0.798278</td>\n",
       "      <td>-0.137458</td>\n",
       "      <td>0.141267</td>\n",
       "      <td>-0.206010</td>\n",
       "      <td>0.502292</td>\n",
       "      <td>0.219422</td>\n",
       "      <td>0.215153</td>\n",
       "      <td>69.99</td>\n",
       "      <td>0</td>\n",
       "    </tr>\n",
       "  </tbody>\n",
       "</table>\n",
       "<p>5 rows × 31 columns</p>\n",
       "</div>"
      ],
      "text/plain": [
       "   Time        V1        V2        V3        V4        V5        V6        V7  \\\n",
       "0   0.0 -1.359807 -0.072781  2.536347  1.378155 -0.338321  0.462388  0.239599   \n",
       "1   0.0  1.191857  0.266151  0.166480  0.448154  0.060018 -0.082361 -0.078803   \n",
       "2   1.0 -1.358354 -1.340163  1.773209  0.379780 -0.503198  1.800499  0.791461   \n",
       "3   1.0 -0.966272 -0.185226  1.792993 -0.863291 -0.010309  1.247203  0.237609   \n",
       "4   2.0 -1.158233  0.877737  1.548718  0.403034 -0.407193  0.095921  0.592941   \n",
       "\n",
       "         V8        V9  ...       V21       V22       V23       V24       V25  \\\n",
       "0  0.098698  0.363787  ... -0.018307  0.277838 -0.110474  0.066928  0.128539   \n",
       "1  0.085102 -0.255425  ... -0.225775 -0.638672  0.101288 -0.339846  0.167170   \n",
       "2  0.247676 -1.514654  ...  0.247998  0.771679  0.909412 -0.689281 -0.327642   \n",
       "3  0.377436 -1.387024  ... -0.108300  0.005274 -0.190321 -1.175575  0.647376   \n",
       "4 -0.270533  0.817739  ... -0.009431  0.798278 -0.137458  0.141267 -0.206010   \n",
       "\n",
       "        V26       V27       V28  Amount  Class  \n",
       "0 -0.189115  0.133558 -0.021053  149.62      0  \n",
       "1  0.125895 -0.008983  0.014724    2.69      0  \n",
       "2 -0.139097 -0.055353 -0.059752  378.66      0  \n",
       "3 -0.221929  0.062723  0.061458  123.50      0  \n",
       "4  0.502292  0.219422  0.215153   69.99      0  \n",
       "\n",
       "[5 rows x 31 columns]"
      ]
     },
     "execution_count": 17,
     "metadata": {},
     "output_type": "execute_result"
    }
   ],
   "source": [
    "train = raw.copy()\n",
    "train.head()"
   ]
  },
  {
   "cell_type": "code",
   "execution_count": 5,
   "metadata": {},
   "outputs": [
    {
     "data": {
      "text/plain": [
       "False"
      ]
     },
     "execution_count": 5,
     "metadata": {},
     "output_type": "execute_result"
    }
   ],
   "source": [
    "train.isnull().values.any()"
   ]
  },
  {
   "cell_type": "code",
   "execution_count": 6,
   "metadata": {},
   "outputs": [
    {
     "data": {
      "text/plain": [
       "0"
      ]
     },
     "execution_count": 6,
     "metadata": {},
     "output_type": "execute_result"
    }
   ],
   "source": [
    "train.isnull().sum().max()"
   ]
  },
  {
   "cell_type": "code",
   "execution_count": 5,
   "metadata": {},
   "outputs": [
    {
     "data": {
      "text/plain": [
       "array([0, 1])"
      ]
     },
     "execution_count": 5,
     "metadata": {},
     "output_type": "execute_result"
    }
   ],
   "source": [
    "train['Class'].unique()"
   ]
  },
  {
   "cell_type": "code",
   "execution_count": 18,
   "metadata": {
    "scrolled": true
   },
   "outputs": [
    {
     "name": "stdout",
     "output_type": "stream",
     "text": [
      "No frauds of proportion 99.83 % of the whole dataset\n",
      " \n",
      "Frauds of proportion 0.17 % of the whole dataset\n"
     ]
    }
   ],
   "source": [
    "a = train['Class'].value_counts()[0] / len(train) * 100\n",
    "b = train['Class'].value_counts()[1] / len(train) * 100\n",
    "\n",
    "print('No frauds of proportion {} % of the whole dataset'.format(round(a, 2)))\n",
    "print(' ')\n",
    "print('Frauds of proportion {} % of the whole dataset'.format(round(b, 2)))"
   ]
  },
  {
   "cell_type": "code",
   "execution_count": 10,
   "metadata": {},
   "outputs": [
    {
     "data": {
      "image/png": "[encoded data removed]",
      "text/plain": [
       "<Figure size 432x288 with 1 Axes>"
      ]
     },
     "metadata": {
      "needs_background": "light"
     },
     "output_type": "display_data"
    }
   ],
   "source": [
    "cc = ['skyblue', 'red']\n",
    "tc = ['No Fraud', 'Fraud']\n",
    "\n",
    "plt.figure(figsize = (6, 4))\n",
    "sns.countplot('Class', data = train, palette = cc)\n",
    "plt.title('Class Distribution')\n",
    "plt.xticks(range(2), tc)\n",
    "plt.show()"
   ]
  },
  {
   "cell_type": "code",
   "execution_count": 11,
   "metadata": {},
   "outputs": [
    {
     "data": {
      "image/png": "[encoded data removed]",
      "text/plain": [
       "<Figure size 1296x1296 with 5 Axes>"
      ]
     },
     "metadata": {
      "needs_background": "light"
     },
     "output_type": "display_data"
    }
   ],
   "source": [
    "time = train['Time'].values\n",
    "amt = train['Amount'].values\n",
    "plt.figure(figsize = (18, 18))\n",
    "\n",
    "plt.subplot(321)\n",
    "plt.hist(time, bins = 200, label = 'time', rwidth = 0.9)\n",
    "plt.title('Distribution of Transaction Time')\n",
    "plt.xlabel('time')\n",
    "plt.subplots_adjust(hspace = 0.5)\n",
    "plt.legend()\n",
    "\n",
    "plt.subplot(322)\n",
    "plt.hist(amt, bins = 100, label = 'amount', rwidth = 0.9)\n",
    "plt.title('Distribution of Transaction Amount')\n",
    "plt.xlabel('amount')\n",
    "plt.subplots_adjust(hspace = 0.5)\n",
    "plt.legend()\n",
    "\n",
    "plt.subplot(323)\n",
    "sns.distplot(time, color='skyblue')\n",
    "plt.xlabel('time')\n",
    "plt.subplots_adjust(hspace = 0.5)\n",
    "\n",
    "plt.subplot(324)\n",
    "sns.distplot(amt, color='r')\n",
    "plt.xlabel('amount')\n",
    "\n",
    "plt.subplot(325)\n",
    "plt.hist(amt, bins = 400, label = 'amount', rwidth = 0.9)\n",
    "plt.xlim(-50, 800)\n",
    "plt.title('Distribution of Transaction Amount')\n",
    "plt.xlabel('amount')\n",
    "plt.legend()\n",
    "\n",
    "plt.show()"
   ]
  },
  {
   "cell_type": "markdown",
   "metadata": {},
   "source": [
    "Scaling & Distributing"
   ]
  },
  {
   "cell_type": "code",
   "execution_count": 7,
   "metadata": {},
   "outputs": [],
   "source": [
    "from sklearn.preprocessing import StandardScaler, RobustScaler"
   ]
  },
  {
   "cell_type": "code",
   "execution_count": 19,
   "metadata": {},
   "outputs": [],
   "source": [
    "std_sc = StandardScaler()\n",
    "rob_sc = RobustScaler()\n",
    "\n",
    "# since the values are tuples we have to reshape to make them as 2 dim arrays\n",
    "train['scaled_amount'] = rob_sc.fit_transform(train['Amount'].values.reshape(-1, 1))\n",
    "train['scaled_time'] = rob_sc.fit_transform(train['Time'].values.reshape(-1, 1))"
   ]
  },
  {
   "cell_type": "code",
   "execution_count": 20,
   "metadata": {},
   "outputs": [],
   "source": [
    "train.drop(['Time', 'Amount'], axis = 1, inplace = True)"
   ]
  },
  {
   "cell_type": "code",
   "execution_count": 21,
   "metadata": {},
   "outputs": [],
   "source": [
    "sc_amt = train['scaled_amount']\n",
    "sc_tm = train['scaled_time']\n",
    "train.drop(['scaled_time', 'scaled_amount'], axis = 1, inplace = True)"
   ]
  },
  {
   "cell_type": "code",
   "execution_count": 22,
   "metadata": {},
   "outputs": [],
   "source": [
    "train.insert(0, 'scaled_amount', sc_amt)\n",
    "train.insert(1, 'scaled_time', sc_tm)"
   ]
  },
  {
   "cell_type": "code",
   "execution_count": 12,
   "metadata": {},
   "outputs": [],
   "source": [
    "from sklearn.model_selection import train_test_split\n",
    "from sklearn.model_selection import StratifiedShuffleSplit\n",
    "from sklearn.model_selection import KFold, StratifiedKFold"
   ]
  },
  {
   "cell_type": "code",
   "execution_count": 23,
   "metadata": {},
   "outputs": [
    {
     "name": "stdout",
     "output_type": "stream",
     "text": [
      "No frauds of proportion 99.83 % of the whole dataset\n",
      " \n",
      "Frauds of proportion 0.17 % of the whole dataset\n"
     ]
    }
   ],
   "source": [
    "print('No frauds of proportion {} % of the whole dataset'.format(round(a, 2)))\n",
    "print(' ')\n",
    "print('Frauds of proportion {} % of the whole dataset'.format(round(b, 2)))"
   ]
  },
  {
   "cell_type": "code",
   "execution_count": 24,
   "metadata": {},
   "outputs": [],
   "source": [
    "# we take the new_train without 'Class' column as X, when 'train' pertains the ''Class'' column \n",
    "X = train.drop('Class', axis=1, inplace = False)\n",
    "\n",
    "## here notice the function of inplace = False / True, when True, the train will drop the 'Class' column and no more pertain this column in train\n",
    "## when Flase, train will pertain the 'Class' column while X does not"
   ]
  },
  {
   "cell_type": "code",
   "execution_count": 26,
   "metadata": {},
   "outputs": [],
   "source": [
    "y = train['Class']"
   ]
  },
  {
   "cell_type": "code",
   "execution_count": 32,
   "metadata": {},
   "outputs": [
    {
     "name": "stdout",
     "output_type": "stream",
     "text": [
      "Train:  [ 30473  30496  31002 ... 284804 284805 284806] Test:  [    0     1     2 ... 57017 57018 57019]\n",
      "Train:  [     0      1      2 ... 284804 284805 284806] Test:  [ 30473  30496  31002 ... 113964 113965 113966]\n",
      "Train:  [     0      1      2 ... 284804 284805 284806] Test:  [ 81609  82400  83053 ... 170946 170947 170948]\n",
      "Train:  [     0      1      2 ... 284804 284805 284806] Test:  [150654 150660 150661 ... 227866 227867 227868]\n",
      "Train:  [     0      1      2 ... 227866 227867 227868] Test:  [212516 212644 213092 ... 284804 284805 284806]\n"
     ]
    }
   ],
   "source": [
    "ss = StratifiedKFold(n_splits = 5, random_state = None, shuffle = False)\n",
    "\n",
    "for tr_ind, te_ind in ss.split(X, y):\n",
    "    print('Train: ', tr_ind, 'Test: ', te_ind)\n",
    "    orig_Xtrain, orig_Xtest = X.iloc[tr_ind], X.iloc[te_ind]\n",
    "    orig_ytrain, orig_ytest = y.iloc[tr_ind], y.iloc[te_ind]"
   ]
  },
  {
   "cell_type": "code",
   "execution_count": 33,
   "metadata": {},
   "outputs": [],
   "source": [
    "orig_Xtrain = orig_Xtrain.values\n",
    "orig_Xtest = orig_Xtest.values\n",
    "orig_ytrain = orig_ytrain.values\n",
    "orig_ytest = orig_ytest.values"
   ]
  },
  {
   "cell_type": "code",
   "execution_count": 34,
   "metadata": {},
   "outputs": [
    {
     "name": "stdout",
     "output_type": "stream",
     "text": [
      " \n",
      "label distribution: \n",
      "\n",
      "[0.00000000e+00 4.38892936e-06]\n",
      "[0.00000000e+00 1.75558716e-05]\n"
     ]
    }
   ],
   "source": [
    "train_unique_label, train_counts_label = np.unique(orig_ytrain, return_counts = True)\n",
    "test_unique_label, test_counts_label = np.unique(orig_ytest, return_counts = True)\n",
    "print(' ')\n",
    "print('label distribution: \\n')\n",
    "print(train_unique_label / len(orig_ytrain))\n",
    "print(test_unique_label / len(orig_ytest))"
   ]
  },
  {
   "cell_type": "code",
   "execution_count": 35,
   "metadata": {},
   "outputs": [],
   "source": [
    "train = train.sample(frac = 1)\n",
    "fraud = train.loc[train['Class'] == 1]\n",
    "non_fraud = train.loc[train['Class'] == 0][:492]"
   ]
  },
  {
   "cell_type": "code",
   "execution_count": 43,
   "metadata": {},
   "outputs": [],
   "source": [
    "nor_dist_train = pd.concat([fraud, non_fraud])\n",
    "new_train = nor_dist_train.sample(frac = 1, random_state = 42)"
   ]
  },
  {
   "cell_type": "code",
   "execution_count": 46,
   "metadata": {},
   "outputs": [
    {
     "data": {
      "text/html": [
       "<div>\n",
       "<style scoped>\n",
       "    .dataframe tbody tr th:only-of-type {\n",
       "        vertical-align: middle;\n",
       "    }\n",
       "\n",
       "    .dataframe tbody tr th {\n",
       "        vertical-align: top;\n",
       "    }\n",
       "\n",
       "    .dataframe thead th {\n",
       "        text-align: right;\n",
       "    }\n",
       "</style>\n",
       "<table border=\"1\" class=\"dataframe\">\n",
       "  <thead>\n",
       "    <tr style=\"text-align: right;\">\n",
       "      <th></th>\n",
       "      <th>scaled_amount</th>\n",
       "      <th>scaled_time</th>\n",
       "      <th>V1</th>\n",
       "      <th>V2</th>\n",
       "      <th>V3</th>\n",
       "      <th>V4</th>\n",
       "      <th>V5</th>\n",
       "      <th>V6</th>\n",
       "      <th>V7</th>\n",
       "      <th>V8</th>\n",
       "      <th>...</th>\n",
       "      <th>V20</th>\n",
       "      <th>V21</th>\n",
       "      <th>V22</th>\n",
       "      <th>V23</th>\n",
       "      <th>V24</th>\n",
       "      <th>V25</th>\n",
       "      <th>V26</th>\n",
       "      <th>V27</th>\n",
       "      <th>V28</th>\n",
       "      <th>Class</th>\n",
       "    </tr>\n",
       "  </thead>\n",
       "  <tbody>\n",
       "    <tr>\n",
       "      <th>186765</th>\n",
       "      <td>1.188570</td>\n",
       "      <td>0.499912</td>\n",
       "      <td>-4.106622</td>\n",
       "      <td>-3.541271</td>\n",
       "      <td>0.104438</td>\n",
       "      <td>0.339032</td>\n",
       "      <td>1.392133</td>\n",
       "      <td>-0.542615</td>\n",
       "      <td>0.368533</td>\n",
       "      <td>-0.643416</td>\n",
       "      <td>...</td>\n",
       "      <td>-3.703525</td>\n",
       "      <td>-0.835920</td>\n",
       "      <td>1.831160</td>\n",
       "      <td>2.591728</td>\n",
       "      <td>0.813578</td>\n",
       "      <td>0.511317</td>\n",
       "      <td>-0.088159</td>\n",
       "      <td>0.852425</td>\n",
       "      <td>-1.190319</td>\n",
       "      <td>0</td>\n",
       "    </tr>\n",
       "    <tr>\n",
       "      <th>10204</th>\n",
       "      <td>-0.148257</td>\n",
       "      <td>-0.809161</td>\n",
       "      <td>-4.641893</td>\n",
       "      <td>2.902086</td>\n",
       "      <td>-1.572939</td>\n",
       "      <td>2.507299</td>\n",
       "      <td>-0.871783</td>\n",
       "      <td>-1.040903</td>\n",
       "      <td>-1.593901</td>\n",
       "      <td>-3.254905</td>\n",
       "      <td>...</td>\n",
       "      <td>-0.465679</td>\n",
       "      <td>1.963597</td>\n",
       "      <td>-0.217414</td>\n",
       "      <td>-0.549340</td>\n",
       "      <td>0.645545</td>\n",
       "      <td>-0.354558</td>\n",
       "      <td>-0.611764</td>\n",
       "      <td>-3.908080</td>\n",
       "      <td>-0.671248</td>\n",
       "      <td>1</td>\n",
       "    </tr>\n",
       "    <tr>\n",
       "      <th>222974</th>\n",
       "      <td>-0.293440</td>\n",
       "      <td>0.687402</td>\n",
       "      <td>-1.460399</td>\n",
       "      <td>0.947105</td>\n",
       "      <td>0.071779</td>\n",
       "      <td>-1.174776</td>\n",
       "      <td>0.849138</td>\n",
       "      <td>-0.803747</td>\n",
       "      <td>0.706304</td>\n",
       "      <td>0.168531</td>\n",
       "      <td>...</td>\n",
       "      <td>-0.394261</td>\n",
       "      <td>0.429681</td>\n",
       "      <td>1.100644</td>\n",
       "      <td>-0.374241</td>\n",
       "      <td>-0.338315</td>\n",
       "      <td>0.415683</td>\n",
       "      <td>-0.225369</td>\n",
       "      <td>-0.415763</td>\n",
       "      <td>0.074465</td>\n",
       "      <td>0</td>\n",
       "    </tr>\n",
       "    <tr>\n",
       "      <th>112840</th>\n",
       "      <td>0.321805</td>\n",
       "      <td>-0.139428</td>\n",
       "      <td>-1.111495</td>\n",
       "      <td>-0.257575</td>\n",
       "      <td>2.250210</td>\n",
       "      <td>1.152671</td>\n",
       "      <td>0.432904</td>\n",
       "      <td>1.254126</td>\n",
       "      <td>-0.584163</td>\n",
       "      <td>-0.609682</td>\n",
       "      <td>...</td>\n",
       "      <td>-0.510614</td>\n",
       "      <td>0.862913</td>\n",
       "      <td>0.927825</td>\n",
       "      <td>-0.343058</td>\n",
       "      <td>-0.256268</td>\n",
       "      <td>-0.600742</td>\n",
       "      <td>-0.180331</td>\n",
       "      <td>0.026762</td>\n",
       "      <td>-0.358335</td>\n",
       "      <td>1</td>\n",
       "    </tr>\n",
       "    <tr>\n",
       "      <th>150715</th>\n",
       "      <td>-0.148117</td>\n",
       "      <td>0.108942</td>\n",
       "      <td>-11.397727</td>\n",
       "      <td>7.763953</td>\n",
       "      <td>-18.572307</td>\n",
       "      <td>6.711855</td>\n",
       "      <td>-10.174216</td>\n",
       "      <td>-4.395918</td>\n",
       "      <td>-15.893788</td>\n",
       "      <td>2.083013</td>\n",
       "      <td>...</td>\n",
       "      <td>0.208879</td>\n",
       "      <td>0.339007</td>\n",
       "      <td>1.342923</td>\n",
       "      <td>0.239217</td>\n",
       "      <td>0.534644</td>\n",
       "      <td>-0.174965</td>\n",
       "      <td>-0.500240</td>\n",
       "      <td>-1.722060</td>\n",
       "      <td>-0.574339</td>\n",
       "      <td>1</td>\n",
       "    </tr>\n",
       "  </tbody>\n",
       "</table>\n",
       "<p>5 rows × 31 columns</p>\n",
       "</div>"
      ],
      "text/plain": [
       "        scaled_amount  scaled_time         V1        V2         V3        V4  \\\n",
       "186765       1.188570     0.499912  -4.106622 -3.541271   0.104438  0.339032   \n",
       "10204       -0.148257    -0.809161  -4.641893  2.902086  -1.572939  2.507299   \n",
       "222974      -0.293440     0.687402  -1.460399  0.947105   0.071779 -1.174776   \n",
       "112840       0.321805    -0.139428  -1.111495 -0.257575   2.250210  1.152671   \n",
       "150715      -0.148117     0.108942 -11.397727  7.763953 -18.572307  6.711855   \n",
       "\n",
       "               V5        V6         V7        V8  ...       V20       V21  \\\n",
       "186765   1.392133 -0.542615   0.368533 -0.643416  ... -3.703525 -0.835920   \n",
       "10204   -0.871783 -1.040903  -1.593901 -3.254905  ... -0.465679  1.963597   \n",
       "222974   0.849138 -0.803747   0.706304  0.168531  ... -0.394261  0.429681   \n",
       "112840   0.432904  1.254126  -0.584163 -0.609682  ... -0.510614  0.862913   \n",
       "150715 -10.174216 -4.395918 -15.893788  2.083013  ...  0.208879  0.339007   \n",
       "\n",
       "             V22       V23       V24       V25       V26       V27       V28  \\\n",
       "186765  1.831160  2.591728  0.813578  0.511317 -0.088159  0.852425 -1.190319   \n",
       "10204  -0.217414 -0.549340  0.645545 -0.354558 -0.611764 -3.908080 -0.671248   \n",
       "222974  1.100644 -0.374241 -0.338315  0.415683 -0.225369 -0.415763  0.074465   \n",
       "112840  0.927825 -0.343058 -0.256268 -0.600742 -0.180331  0.026762 -0.358335   \n",
       "150715  1.342923  0.239217  0.534644 -0.174965 -0.500240 -1.722060 -0.574339   \n",
       "\n",
       "        Class  \n",
       "186765      0  \n",
       "10204       1  \n",
       "222974      0  \n",
       "112840      1  \n",
       "150715      1  \n",
       "\n",
       "[5 rows x 31 columns]"
      ]
     },
     "execution_count": 46,
     "metadata": {},
     "output_type": "execute_result"
    }
   ],
   "source": [
    "new_train.head()"
   ]
  },
  {
   "cell_type": "code",
   "execution_count": 47,
   "metadata": {},
   "outputs": [
    {
     "name": "stdout",
     "output_type": "stream",
     "text": [
      "Distribution of Classes in subsample dataset\n",
      "1    0.5\n",
      "0    0.5\n",
      "Name: Class, dtype: float64\n"
     ]
    }
   ],
   "source": [
    "print('Distribution of Classes in subsample dataset')\n",
    "print(new_train['Class'].value_counts() / len(new_train))"
   ]
  },
  {
   "cell_type": "code",
   "execution_count": 54,
   "metadata": {},
   "outputs": [
    {
     "data": {
      "image/png": "[encoded data removed]",
      "text/plain": [
       "<Figure size 432x288 with 1 Axes>"
      ]
     },
     "metadata": {
      "needs_background": "light"
     },
     "output_type": "display_data"
    }
   ],
   "source": [
    "cc = ['skyblue', 'red']\n",
    "tc = ['No Fraud', 'Fraud']\n",
    "plt.figure(figsize = (6, 4))\n",
    "sns.countplot('Class', data=new_train, palette=cc)\n",
    "plt.title('Distribution')\n",
    "plt.xticks(range(2), tc)\n",
    "\n",
    "plt.show()"
   ]
  },
  {
   "cell_type": "markdown",
   "metadata": {},
   "source": [
    "Learning Curves"
   ]
  },
  {
   "cell_type": "code",
   "execution_count": 55,
   "metadata": {},
   "outputs": [],
   "source": [
    "X = new_train.drop('Class', axis = 1, inplace = False)\n",
    "y = new_train['Class']"
   ]
  },
  {
   "cell_type": "code",
   "execution_count": 60,
   "metadata": {},
   "outputs": [],
   "source": [
    "X_train, X_test, y_train, y_test = train_test_split(X, y, test_size=0.2, random_state=42)"
   ]
  },
  {
   "cell_type": "code",
   "execution_count": 63,
   "metadata": {},
   "outputs": [],
   "source": [
    "# Then change the data type from dataframe to ndarray\n",
    "X_train = X_train.values\n",
    "X_test = X_test.values\n",
    "y_train = y_train.values\n",
    "y_test = y_test.values"
   ]
  },
  {
   "cell_type": "code",
   "execution_count": 76,
   "metadata": {},
   "outputs": [],
   "source": [
    "import warnings\n",
    "warnings.filterwarnings('ignore')"
   ]
  },
  {
   "cell_type": "code",
   "execution_count": 68,
   "metadata": {},
   "outputs": [],
   "source": [
    "from sklearn.linear_model import LogisticRegression\n",
    "from sklearn.neighbors import KNeighborsClassifier\n",
    "from sklearn.svm import SVC\n",
    "from sklearn.tree import DecisionTreeClassifier\n",
    "from sklearn.model_selection import cross_val_score"
   ]
  },
  {
   "cell_type": "code",
   "execution_count": 67,
   "metadata": {},
   "outputs": [],
   "source": [
    "clf = {\n",
    "    'LogisiticRegression': LogisticRegression(),\n",
    "    'KNearest': KNeighborsClassifier(),\n",
    "    'Support Vector Classifier': SVC(),\n",
    "    'DecisionTreeClassifier': DecisionTreeClassifier()}"
   ]
  },
  {
   "cell_type": "code",
   "execution_count": 77,
   "metadata": {},
   "outputs": [
    {
     "name": "stdout",
     "output_type": "stream",
     "text": [
      "Classifier:  LogisticRegression with training score 94.0 % accuracy \n",
      "\n",
      "Classifier:  KNeighborsClassifier with training score 93.0 % accuracy \n",
      "\n",
      "Classifier:  SVC with training score 93.0 % accuracy \n",
      "\n",
      "Classifier:  DecisionTreeClassifier with training score 90.0 % accuracy \n",
      "\n"
     ]
    }
   ],
   "source": [
    "for key, classifier in clf.items():\n",
    "    classifier.fit(X_train, y_train)\n",
    "    score = cross_val_score(classifier, X_train, y_train, cv = 5)\n",
    "    print('Classifier: ', classifier.__class__.__name__, 'with training score', round(score.mean(), 2) * 100, '% accuracy \\n')"
   ]
  },
  {
   "cell_type": "code",
   "execution_count": null,
   "metadata": {},
   "outputs": [],
   "source": []
  },
  {
   "cell_type": "markdown",
   "metadata": {},
   "source": [
    "### TO BE CONTINUED"
   ]
  },
  {
   "cell_type": "code",
   "execution_count": null,
   "metadata": {},
   "outputs": [],
   "source": []
  }
 ],
 "metadata": {
  "kernelspec": {
   "display_name": "Python 3",
   "language": "python",
   "name": "python3"
  },
  "language_info": {
   "codemirror_mode": {
    "name": "ipython",
    "version": 3
   },
   "file_extension": ".py",
   "mimetype": "text/x-python",
   "name": "python",
   "nbconvert_exporter": "python",
   "pygments_lexer": "ipython3",
   "version": "3.6.8"
  }
 },
 "nbformat": 4,
 "nbformat_minor": 2
}
